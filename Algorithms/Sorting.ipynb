{
 "cells": [
  {
   "cell_type": "markdown",
   "id": "145207bf",
   "metadata": {},
   "source": [
    "# Sorting Algorithm Basics\n",
    "## Introduction\n",
    "\n",
    "In programming, the most basic type of algorithms we are going to see is sorting algorithms. This is because they are used in many problems and they fit perfectly to explain basic concepts in the algorithms world. We are going to develop some algorithms and techniques to analyze them.\n",
    "\n",
    "## Loop Invariants\n",
    "\n",
    "Before we look our first algorithm, we are going to dicuss a type of *proof method* for the correcteness of algorithms. For any one who have seen discrete mathematics or number theory, it is common a proof type called **Proof by induction**. This is done through the next steps:\n",
    "\n",
    "- Start with a base case and prove that the statement is true\n",
    "- Assume it is true for a value $n$ and prove it true for $n + 1$\n",
    "\n",
    "In programming, a loop invariant works with the basic principle, but a little different. We use it through loops, and we need three steps:\n",
    "\n",
    "- Prove the correcteness before start the loop\n",
    "- Prove that correcteness holds in each iteration\n",
    "- Prove that when the loops end, your algorithm works\n",
    "\n",
    "The first and the second step are similar to the mathematical induction, and the third is used along with the condition that broke the loop. We are going to explore this idea with the first algorithm of sorting."
   ]
  },
  {
   "cell_type": "markdown",
   "id": "6e6d46dc",
   "metadata": {},
   "source": [
    "## Insertion-Sort \n",
    "\n",
    "Our first algorithm is a basic one for sorting, but it is important to know it. The input is an array of elements $\\langle a_1, a_2, \\dots, a_n\\rangle$ and we want to return an array $\\langle a_1', a_2', \\dots a_n'\\rangle$ such that $a_1' < a_2' < \\dots < a_n'$. The steps are the next:\n",
    "\n",
    "1. For a value i between 2 and n we are going to:\n",
    "    1. We save the element $a_i$ \n",
    "    2. We take each element between $a_1$ to $a_{i-1}$ and we compare it to $a_i$, name it $a_j$. If $a_j$ < $a_i$ then move it one position forward. Do it until get to the end or until you find some $j$ such that $a_j \\ge a_i$. Then, you put $a_i$ in the next position or at the start\n",
    "    \n",
    "2. Return the array\n",
    "\n",
    "Let's look its basic representation in Python:"
   ]
  },
  {
   "cell_type": "code",
   "execution_count": 6,
   "id": "6a7ba169",
   "metadata": {},
   "outputs": [
    {
     "data": {
      "text/plain": [
       "[1, 2, 3, 4, 5, 6]"
      ]
     },
     "execution_count": 6,
     "metadata": {},
     "output_type": "execute_result"
    }
   ],
   "source": [
    "def Insertion_Sort(arr: list):\n",
    "    sorted = arr[:] # Copy of the array\n",
    "    for i in range(1, len(sorted)):\n",
    "        key = sorted[i] #Take the element we want to put in its right position\n",
    "        j = i - 1\n",
    "        while j >= 0 and sorted[j] > key:  # We do this until find some element bigger or we get to the start\n",
    "            sorted[j + 1] = sorted[j]\n",
    "            j = j - 1\n",
    "        sorted[j+1] = key\n",
    "        \n",
    "    return sorted\n",
    "\n",
    "Insertion_Sort([5, 2, 4, 6, 1, 3])"
   ]
  },
  {
   "cell_type": "markdown",
   "id": "925395fb",
   "metadata": {},
   "source": [
    "Ok, we have seen how to implement and for a particular case it works! But how do we know that it will work for every set of elements? Well, we use the loop invariant for this. In this case, the proper loop we analyze is \n",
    "```python\n",
    "for i in range(1, len(sorted))\n",
    "```\n",
    "that this the step 1 we gave before. In this case our loop invariant will be *In the iterations for the value i the subarray $\\langle a_1, \\dots, a_{i-1}\\rangle$ is sorted.\n",
    "\n",
    "- When the loop starts, the array $\\langle a_1 \\rangle$ is ridiculous sorted.\n",
    "- In the $i$ iteration, we have sorted the subarray $\\langle a_1, a_2, \\dots a_{i-1}$ and so when we introduce the value $a_i$ the algorithm sortes it.\n",
    "- When the loop ends, it is because $i$ is greater than $n$ and so, by the loop invariant, the array $\\langle a_1, \\dots a_n \\rangle$ is sorted, which is what we wanted.\n",
    "\n",
    "So we can assure that this algorithm is correct for any array we pass to it."
   ]
  },
  {
   "cell_type": "code",
   "execution_count": null,
   "id": "2d419bd2",
   "metadata": {},
   "outputs": [],
   "source": []
  }
 ],
 "metadata": {
  "kernelspec": {
   "display_name": "Python 3 (ipykernel)",
   "language": "python",
   "name": "python3"
  },
  "language_info": {
   "codemirror_mode": {
    "name": "ipython",
    "version": 3
   },
   "file_extension": ".py",
   "mimetype": "text/x-python",
   "name": "python",
   "nbconvert_exporter": "python",
   "pygments_lexer": "ipython3",
   "version": "3.9.12"
  }
 },
 "nbformat": 4,
 "nbformat_minor": 5
}
