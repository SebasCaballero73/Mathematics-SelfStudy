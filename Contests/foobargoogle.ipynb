{
 "cells": [
  {
   "attachments": {},
   "cell_type": "markdown",
   "metadata": {},
   "source": [
    "# Google Foo Bar Google\n",
    "## Problem 1 - I Love Lance & Janice\n",
    "You've caught two of your fellow minions passing coded notes back and forth - while they're on duty, no less! Worse, you're pretty sure it's not job-related - they're both huge fans of the space soap opera \"\"Lance & Janice\"\". You know how much Commander Lambda hates waste, so if you can prove that these minions are wasting her time passing non-job-related notes, it'll put you that much closer to a promotion.\n",
    "\n",
    "Fortunately for you, the minions aren't exactly advanced cryptographers. In their code, every lowercase letter $[a\\dots z]$ is replaced with the corresponding one in $[z\\dots a]$, while every other character (including uppercase letters and punctuation) is left untouched. That is, 'a' becomes 'z', 'b' becomes 'y', 'c' becomes 'x', etc. For instance, the word \"\"vmxibkgrlm\"\", when decoded, would become \"\"encryption\"\".\n",
    "\n",
    "Write a function called solution(s) which takes in a string and returns the deciphered string so you can show the commander proof that these minions are talking about \"\"Lance & Janice\"\" instead of doing their jobs."
   ]
  },
  {
   "cell_type": "code",
   "execution_count": 1,
   "metadata": {},
   "outputs": [],
   "source": [
    "def solution_1(text):\n",
    "\tstring = ''\n",
    "\tfor char in text:\n",
    "\t\tif 97 <= ord(char) <= 122:\n",
    "\t\t\tstring += chr(97+27-(ord(char) +1)+96)\n",
    "\t\telse:\n",
    "\t\t\tstring += char\n",
    "\treturn string"
   ]
  },
  {
   "attachments": {},
   "cell_type": "markdown",
   "metadata": {},
   "source": [
    "## Problem 2 - Bunny Worker Locations\n",
    "Keeping track of Commander Lambda's many bunny workers is starting to get tricky. You've been tasked with writing a program to match bunny worker IDs to cell locations.\n",
    "\n",
    "The LAMBCHOP doomsday device takes up much of the interior of Commander Lambda's space station, and as a result the work areas have an unusual layout. They are stacked in a triangular shape, and the bunny workers are given numerical IDs starting from the corner, as follows:\n",
    "\n",
    "$$\n",
    "\\begin{matrix}\n",
    "&| &7\\\\\n",
    "&| &4 &8\\\\\n",
    "&| &2 &5 &9\\\\\n",
    "&| &1 &3 &6 &10\\\\\n",
    "\\end{matrix}\n",
    "$$\n",
    "\n",
    "\n",
    "Each cell can be represented as points $(x, y)$, with $x$ being the distance from the vertical wall, and $y$ being the height from the ground. \n",
    "\n",
    "For example, the bunny worker at $(1, 1)$ has ID 1, the bunny worker at $(3, 2)$ has ID 9, and the bunny worker at $(2,3)$ has ID 8. This pattern of numbering continues indefinitely (Commander Lambda has been adding a LOT of workers). \n",
    "\n",
    "Write a function `solution(x, y)` which returns the worker ID of the bunny at location $(x, y)$. Each value of $x$ and $y$ will be at least 1 and no greater than 100,000. Since the worker ID can be very large, return your solution as a string representation of the number."
   ]
  },
  {
   "cell_type": "code",
   "execution_count": null,
   "metadata": {},
   "outputs": [],
   "source": [
    "def solution_2(x, y):\n",
    "  n = x + y - 1\n",
    "  print ((n * n - n + 2) // 2) + (n - y)"
   ]
  },
  {
   "attachments": {},
   "cell_type": "markdown",
   "metadata": {},
   "source": [
    "## Problem 3 - Please Pass the Coded Messages\n",
    "You need to pass a message to the bunny workers, but to avoid detection, the code you agreed to use is... obscure, to say the least. The bunnies are given food on standard-issue plates that are stamped with the numbers 0-9 for easier sorting, and you need to combine sets of plates to create the numbers in the code. The signal that a number is part of the code is that it is divisible by 3. You can do smaller numbers like 15 and 45 easily, but bigger numbers like 144 and 414 are a little trickier. Write a program to help yourself quickly create large numbers for use in the code, given a limited number of plates to work with.\n",
    "\n",
    "You have L, a list containing some digits (0 to 9). Write a function solution(L) which finds the largest number that can be made from some or all of these digits and is divisible by 3. If it is not possible to make such a number, return 0 as the solution. L will contain anywhere from 1 to 9 digits.  The same digit may appear multiple times in the list, but each element in the list may only be used once."
   ]
  },
  {
   "cell_type": "code",
   "execution_count": 1,
   "metadata": {},
   "outputs": [],
   "source": [
    "from itertools import combinations\n",
    "\n",
    "def solution(numbers):\n",
    "    candidates = []\n",
    "    for index in range(len(numbers), 0, -1):\n",
    "        options = combinations(numbers, index)\n",
    "        for option in options:\n",
    "            if sum(option) % 3 == 0:\n",
    "                ordered = map(lambda element: str(element), sorted(option, reverse=True))\n",
    "                candidates.append(int(''.join(ordered)))\n",
    "        if len(candidates) > 0:\n",
    "            return max(candidates)\n",
    "\n",
    "    return 0"
   ]
  },
  {
   "attachments": {},
   "cell_type": "markdown",
   "metadata": {},
   "source": [
    "You're almost ready to make your move to destroy the LAMBCHOP doomsday device, but the security checkpoints that guard the underlying systems of the LAMBCHOP are going to be a problem. You were able to take one down without tripping any alarms, which is great! Except that as Commander Lambda's assistant, you've learned that the checkpoints are about to come under automated review, which means that your sabotage will be discovered and your cover blown -- unless you can trick the automated review system.\n",
    "\n",
    "To trick the system, you'll need to write a program to return the same security checksum that the bunny trainers would have after they would have checked all the workers through. Fortunately, Commander Lambda's desire for efficiency won't allow for hours-long lines, so the trainers at the checkpoint have found ways to quicken the pass-through rate. Instead of checking each and every worker coming through, the bunny trainers instead go over everyone in line while noting their worker IDs, then allow the line to fill back up. Once they've done that they go over the line again, this time leaving off the last worker. They continue doing this, leaving off one more worker from the line each time but recording the worker IDs of those they do check, until they skip the entire line, at which point they XOR the IDs of all the workers they noted into a checksum and then take off for lunch. Fortunately, the workers' orderly nature causes them to always line up in numerical order without any gaps.\n",
    "\n",
    "For example, if the first worker in line has ID 0 and the security checkpoint line holds three workers, the process would look like this:\n",
    "\n",
    "$$\n",
    "\\begin{pmatrix}\n",
    "    &0 &1 &2 &/ \\\\\n",
    "    &3 &4 &/ &5 \\\\\n",
    "    &6 &/ &7 &8 \\\\\n",
    "\\end{pmatrix}\n",
    "$$\n",
    "\n",
    "where the trainers' XOR ($\\wedge$) checksum is $0\\wedge 1\\wedge 2\\wedge 3\\wedge 4\\wedge 6 == 2$.\n",
    "\n",
    "Likewise, if the first worker has ID 17 and the checkpoint holds four workers, the process would look like:\n",
    "\n",
    "$$\n",
    "\\begin{pmatrix}\n",
    "    &17 &18 &19 &20 &/ \\\\\n",
    "    &21 &22 &23 &/ &24 \\\\\n",
    "    &25 &26 &/ &27 &28 \\\\\n",
    "    &29 &/ &30 &31 &32 \\\\\n",
    "\\end{pmatrix}\n",
    "$$\n",
    "\n",
    "which produces the checksum $17\\wedge 18\\wedge 19\\wedge 20\\wedge 21\\wedge 22\\wedge 23\\wedge 25\\wedge 26\\wedge 29 == 14$.\n",
    "\n",
    "All worker IDs (including the first worker) are between 0 and 2000000000 inclusive, and the checkpoint line will always be at least 1 worker long.\n",
    "\n",
    "With this information, write a function solution(start, length) that will cover for the missing security checkpoint by outputting the same checksum the trainers would normally submit before lunch. You have just enough time to find out the ID of the first worker to be checked (start) and the length of the line (length) before the automatic review occurs, so your program must generate the proper checksum with just those two values."
   ]
  },
  {
   "cell_type": "code",
   "execution_count": null,
   "metadata": {},
   "outputs": [],
   "source": []
  }
 ],
 "metadata": {
  "kernelspec": {
   "display_name": "Python 3",
   "language": "python",
   "name": "python3"
  },
  "language_info": {
   "codemirror_mode": {
    "name": "ipython",
    "version": 3
   },
   "file_extension": ".py",
   "mimetype": "text/x-python",
   "name": "python",
   "nbconvert_exporter": "python",
   "pygments_lexer": "ipython3",
   "version": "3.11.1"
  },
  "orig_nbformat": 4,
  "vscode": {
   "interpreter": {
    "hash": "ead1b95f633dc9c51826328e1846203f51a198c6fb5f2884a80417ba131d4e82"
   }
  }
 },
 "nbformat": 4,
 "nbformat_minor": 2
}
