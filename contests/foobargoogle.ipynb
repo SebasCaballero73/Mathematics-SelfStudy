{
 "cells": [
  {
   "attachments": {},
   "cell_type": "markdown",
   "metadata": {},
   "source": [
    "# Google Foo Bar Google\n",
    "## Problem 1 - I Love Lance & Janice\n",
    "You've caught two of your fellow minions passing coded notes back and forth - while they're on duty, no less! Worse, you're pretty sure it's not job-related - they're both huge fans of the space soap opera \"\"Lance & Janice\"\". You know how much Commander Lambda hates waste, so if you can prove that these minions are wasting her time passing non-job-related notes, it'll put you that much closer to a promotion.\n",
    "\n",
    "Fortunately for you, the minions aren't exactly advanced cryptographers. In their code, every lowercase letter $[a\\dots z]$ is replaced with the corresponding one in $[z\\dots a]$, while every other character (including uppercase letters and punctuation) is left untouched. That is, 'a' becomes 'z', 'b' becomes 'y', 'c' becomes 'x', etc. For instance, the word \"\"vmxibkgrlm\"\", when decoded, would become \"\"encryption\"\".\n",
    "\n",
    "Write a function called solution(s) which takes in a string and returns the deciphered string so you can show the commander proof that these minions are talking about \"\"Lance & Janice\"\" instead of doing their jobs."
   ]
  },
  {
   "cell_type": "code",
   "execution_count": 1,
   "metadata": {},
   "outputs": [],
   "source": [
    "def solution_1(text):\n",
    "\tstring = ''\n",
    "\tfor char in text:\n",
    "\t\tif 97 <= ord(char) <= 122:\n",
    "\t\t\tstring += chr(97+27-(ord(char) +1)+96)\n",
    "\t\telse:\n",
    "\t\t\tstring += char\n",
    "\treturn string"
   ]
  },
  {
   "attachments": {},
   "cell_type": "markdown",
   "metadata": {},
   "source": [
    "## Problem 2 - Bunny Worker Locations\n",
    "Keeping track of Commander Lambda's many bunny workers is starting to get tricky. You've been tasked with writing a program to match bunny worker IDs to cell locations.\n",
    "\n",
    "The LAMBCHOP doomsday device takes up much of the interior of Commander Lambda's space station, and as a result the work areas have an unusual layout. They are stacked in a triangular shape, and the bunny workers are given numerical IDs starting from the corner, as follows:\n",
    "\n",
    "$$| 7$$\n",
    "$$| 4 8$$\n",
    "$$| 2 5 9$$\n",
    "$$| 1 3 6 10$$\n",
    "\n",
    "Each cell can be represented as points $(x, y)$, with $x$ being the distance from the vertical wall, and $y$ being the height from the ground. \n",
    "\n",
    "For example, the bunny worker at $(1, 1)$ has ID 1, the bunny worker at $(3, 2)$ has ID 9, and the bunny worker at $(2,3)$ has ID 8. This pattern of numbering continues indefinitely (Commander Lambda has been adding a LOT of workers). \n",
    "\n",
    "Write a function `solution(x, y)` which returns the worker ID of the bunny at location $(x, y)$. Each value of $x$ and $y$ will be at least 1 and no greater than 100,000. Since the worker ID can be very large, return your solution as a string representation of the number."
   ]
  },
  {
   "cell_type": "markdown",
   "metadata": {},
   "source": []
  }
 ],
 "metadata": {
  "kernelspec": {
   "display_name": "Python 3",
   "language": "python",
   "name": "python3"
  },
  "language_info": {
   "codemirror_mode": {
    "name": "ipython",
    "version": 3
   },
   "file_extension": ".py",
   "mimetype": "text/x-python",
   "name": "python",
   "nbconvert_exporter": "python",
   "pygments_lexer": "ipython3",
   "version": "3.11.1"
  },
  "orig_nbformat": 4,
  "vscode": {
   "interpreter": {
    "hash": "ead1b95f633dc9c51826328e1846203f51a198c6fb5f2884a80417ba131d4e82"
   }
  }
 },
 "nbformat": 4,
 "nbformat_minor": 2
}
